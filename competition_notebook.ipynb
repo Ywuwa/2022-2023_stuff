{
 "cells": [
  {
   "cell_type": "code",
   "execution_count": null,
   "id": "7074013b",
   "metadata": {},
   "outputs": [],
   "source": [
    "import numpy as np\n",
    "import pandas as pd\n",
    "pd.options.mode.chained_assignment = None  # default='warn'\n",
    "\n",
    "from sklearn.impute import KNNImputer\n",
    "from sklearn.preprocessing import StandardScaler\n",
    "\n",
    "from sklearn.svm import SVC\n",
    "\n",
    "from sklearn.metrics import roc_auc_score\n",
    "\n",
    "# Input data files are available in the read-only \"../input/\" directory\n",
    "# For example, running this (by clicking run or pressing Shift+Enter) will list all files under the input directory\n",
    "\n",
    "import os\n",
    "for dirname, _, filenames in os.walk('/kaggle/input'):\n",
    "    for filename in filenames:\n",
    "        print(os.path.join(dirname, filename))\n",
    "\n",
    "# You can write up to 20GB to the current directory (/kaggle/working/) that gets preserved as output when you create a version using \"Save & Run All\" \n",
    "# You can also write temporary files to /kaggle/temp/, but they won't be saved outside of the current session\n",
    "train = pd.read_csv(\"../input/train-test-contest/train_contest.csv\", index_col=0)\n",
    "test = pd.read_csv(\"../input/train-test-contest/test_contest.csv\", index_col=0)"
   ]
  },
  {
   "cell_type": "code",
   "execution_count": null,
   "id": "575f5c68",
   "metadata": {},
   "outputs": [],
   "source": [
    "trainX = train.loc[:, train.columns != 'label']\n",
    "trainY = train[\"label\"]\n",
    "\n",
    "trainX = trainX.values\n",
    "trainY = trainY.values"
   ]
  },
  {
   "cell_type": "code",
   "execution_count": null,
   "id": "129ae4d5",
   "metadata": {},
   "outputs": [],
   "source": [
    "n = 4 \n",
    "w = 'distance'\n",
    "\n",
    "imp = KNNImputer(n_neighbors=n, weights=w)\n",
    "trainX_without_missing = imp.fit_transform(trainX)\n",
    "\n",
    "scaler = StandardScaler()\n",
    "trainX_without_missing = scaler.fit_transform(trainX_without_missing)"
   ]
  },
  {
   "cell_type": "code",
   "execution_count": null,
   "id": "f23de8fb",
   "metadata": {},
   "outputs": [],
   "source": [
    "cls = SVC(C=2, gamma='auto',probability=True) \n",
    "cls.fit(trainX_without_missing, trainY)"
   ]
  },
  {
   "cell_type": "code",
   "execution_count": null,
   "id": "02a2be30",
   "metadata": {},
   "outputs": [],
   "source": [
    "n = 4 \n",
    "w = 'distance'\n",
    "\n",
    "testX = test\n",
    "testX = test.values\n",
    "\n",
    "imp = KNNImputer(n_neighbors=n, weights=w)\n",
    "testX_without_missing = imp.fit_transform(testX)\n",
    "\n",
    "scaler = StandardScaler()\n",
    "testX_without_missing = scaler.fit_transform(testX_without_missing)"
   ]
  },
  {
   "cell_type": "code",
   "execution_count": null,
   "id": "93d7c02f",
   "metadata": {},
   "outputs": [],
   "source": [
    "y_tofile = cls.predict(testX_without_missing)\n",
    "id = np.arange(0,len(y_tofile))\n",
    "df = pd.DataFrame({'id': id, 'label': y_tofile})\n",
    "df.to_csv('Тимофеев_Кирилл.csv', sep=',', encoding='utf-8', index=False)"
   ]
  }
 ],
 "metadata": {
  "kernelspec": {
   "display_name": "Python 3 (ipykernel)",
   "language": "python",
   "name": "python3"
  },
  "language_info": {
   "codemirror_mode": {
    "name": "ipython",
    "version": 3
   },
   "file_extension": ".py",
   "mimetype": "text/x-python",
   "name": "python",
   "nbconvert_exporter": "python",
   "pygments_lexer": "ipython3",
   "version": "3.8.3"
  }
 },
 "nbformat": 4,
 "nbformat_minor": 5
}
